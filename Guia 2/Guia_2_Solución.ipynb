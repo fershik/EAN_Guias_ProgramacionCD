{
  "nbformat": 4,
  "nbformat_minor": 0,
  "metadata": {
    "colab": {
      "provenance": [],
      "include_colab_link": true
    },
    "kernelspec": {
      "name": "python3",
      "display_name": "Python 3"
    },
    "language_info": {
      "name": "python"
    }
  },
  "cells": [
    {
      "cell_type": "markdown",
      "metadata": {
        "id": "view-in-github",
        "colab_type": "text"
      },
      "source": [
        "<a href=\"https://colab.research.google.com/github/fershik/EAN_Guias_ProgramacionCD/blob/main/Guia%202/Guia_2_Soluci%C3%B3n.ipynb\" target=\"_parent\"><img src=\"https://colab.research.google.com/assets/colab-badge.svg\" alt=\"Open In Colab\"/></a>"
      ]
    },
    {
      "cell_type": "markdown",
      "source": [
        "# **Guía 2**\n",
        "\n",
        "## Integrantes:\n",
        "### John Alexander Castañeda Gordillo - Deisy Fernanda Camacho Vargas\n",
        "\n",
        "_______________________________________________________________________________\n",
        "\n",
        "### **Caso de Negocio: Análisis de Deserción de Clientes en una Empresa de Telecomunicaciones**\n",
        "\n",
        "**Contexto**\n",
        "\n",
        "En la industria de las telecomunicaciones, la retención de clientes es un factor crítico para la sostenibilidad del negocio. La competencia es feroz y adquirir nuevos clientes suele ser más costoso que mantener a los actuales. En este análisis, exploraremos un conjunto de datos que contiene información detallada sobre clientes que han abandonado el servicio (churn) y aquellos que permanecen activos.\n",
        "\n",
        "Nuestro objetivo es identificar los factores clave que influyen en la deserción, comprender patrones de comportamiento y generar estrategias efectivas para reducir la tasa de abandono.\n",
        "\n",
        "La empresa ha experimentado un aumento en la tasa de deserción de clientes, lo que ha provocado:\n",
        "- Pérdida de ingresos recurrentes.\n",
        "- Incremento en los costos de adquisición de nuevos clientes.\n",
        "- Menor estabilidad en la base de clientes a largo plazo.\n",
        "\n",
        "Para abordar esta problemática, es crucial identificar las razones detrás de la deserción y desarrollar estrategias para mejorar la retención de clientes.\n",
        "\n"
      ],
      "metadata": {
        "id": "sVxeQki8vRXz"
      }
    },
    {
      "cell_type": "markdown",
      "source": [
        "**Descripción de las variables del dataset telecom_churn**\n",
        "\n",
        "El dataset telecom_churn contiene información detallada sobre clientes de una empresa de telecomunicaciones, incluyendo datos generales, planes contratados, uso del servicio telefónico y llamadas al servicio al cliente. Su propósito principal es analizar patrones de deserción de clientes, identificados a través de la variable churn, que indica si un cliente ha abandonado la empresa (1) o sigue siendo cliente (0).\n",
        "\n",
        "Dentro del dataset, encontramos información general como el estado (state) donde reside el cliente, el código de área (area code), y el número de teléfono (phone number), aunque esta última variable no aporta información útil para el análisis, ya que es un identificador único.\n",
        "\n",
        "Además, el dataset registra el tiempo que un cliente ha estado en la empresa a través de la variable account length, lo que puede ayudar a analizar si la duración del contrato influye en la deserción. También se incluyen detalles sobre los planes contratados, como si el cliente tiene un plan internacional (international plan), que le permite realizar llamadas internacionales, o un buzón de voz (voice mail plan), que le permite recibir mensajes de voz.\n",
        "\n",
        "En cuanto al uso del servicio, se registran datos detallados sobre el tiempo en llamadas y los costos asociados. Se divide en tres períodos del día: diurno (total day minutes, total day calls, total day charge), vespertino (total eve minutes, total eve calls, total eve charge) y nocturno (total night minutes, total night calls, total night charge), lo que permite evaluar si hay patrones de consumo que influyen en la deserción. También se incluye información sobre el uso del servicio internacional, con variables como total intl minutes (minutos en llamadas internacionales), total intl calls (cantidad de llamadas internacionales) y total intl charge (costos por llamadas internacionales).\n",
        "\n",
        "Otro aspecto clave del dataset es el número de llamadas al servicio al cliente (customer service calls), ya que una mayor cantidad de llamadas puede indicar insatisfacción y estar relacionada con la decisión del cliente de abandonar la empresa.\n",
        "\n",
        "Finalmente, la variable más importante del análisis es churn, que indica si un cliente ha desertado de la empresa. A partir de esta variable, podemos analizar qué factores influyen en la deserción y encontrar patrones en los clientes que tienen mayor probabilidad de abandonar el servicio.\n"
      ],
      "metadata": {
        "id": "R1eyqBGSScta"
      }
    },
    {
      "cell_type": "markdown",
      "source": [
        "**Exploración y Limpieza de Datos**\n",
        "\n",
        "Cargar y explorar el dataset\n",
        "\n",
        "Importa Pandas y carga el dataset telecom_churn.csv en un DataFrame.\n",
        "\n",
        "Muestra las primeras 5 filas del DataFrame.\n",
        "\n",
        "Verifica cuántas filas y columnas tiene el dataset.\n",
        "\n",
        "Muestra información general del dataset, incluyendo los tipos de datos.\n",
        "\n",
        "Identifica si hay valores nulos en alguna columna."
      ],
      "metadata": {
        "id": "-gqRGJ8yFs5Y"
      }
    },
    {
      "cell_type": "code",
      "execution_count": 3,
      "metadata": {
        "id": "wuoyvrE0vQ09"
      },
      "outputs": [],
      "source": [
        "# Solución propuesta\n",
        "#Importar libreria pandas\n",
        "import pandas as pd"
      ]
    },
    {
      "cell_type": "code",
      "source": [
        "#Cargar dataset\n",
        "df=pd.read_csv('telecom_churn.csv')\n",
        "\n",
        "#Mostrar las primeras 5 filas del DataFrame\n",
        "df.head()\n"
      ],
      "metadata": {
        "colab": {
          "base_uri": "https://localhost:8080/",
          "height": 377
        },
        "id": "Rrhpzv8UsLwz",
        "outputId": "d74434c9-14b3-40b1-e31c-0c0324df9d24"
      },
      "execution_count": 4,
      "outputs": [
        {
          "output_type": "execute_result",
          "data": {
            "text/plain": [
              "  state  account length  area code phone number international plan  \\\n",
              "0    KS             128        415     382-4657                 no   \n",
              "1    OH             107        415     371-7191                 no   \n",
              "2    NJ             137        415     358-1921                 no   \n",
              "3    OH              84        408     375-9999                yes   \n",
              "4    OK              75        415     330-6626                yes   \n",
              "\n",
              "  voice mail plan  number vmail messages  total day minutes  total day calls  \\\n",
              "0             yes                     25              265.1              110   \n",
              "1             yes                     26              161.6              123   \n",
              "2              no                      0              243.4              114   \n",
              "3              no                      0              299.4               71   \n",
              "4              no                      0              166.7              113   \n",
              "\n",
              "   total day charge  ...  total eve calls  total eve charge  \\\n",
              "0             45.07  ...               99             16.78   \n",
              "1             27.47  ...              103             16.62   \n",
              "2             41.38  ...              110             10.30   \n",
              "3             50.90  ...               88              5.26   \n",
              "4             28.34  ...              122             12.61   \n",
              "\n",
              "   total night minutes  total night calls  total night charge  \\\n",
              "0                244.7                 91               11.01   \n",
              "1                254.4                103               11.45   \n",
              "2                162.6                104                7.32   \n",
              "3                196.9                 89                8.86   \n",
              "4                186.9                121                8.41   \n",
              "\n",
              "   total intl minutes  total intl calls  total intl charge  \\\n",
              "0                10.0                 3               2.70   \n",
              "1                13.7                 3               3.70   \n",
              "2                12.2                 5               3.29   \n",
              "3                 6.6                 7               1.78   \n",
              "4                10.1                 3               2.73   \n",
              "\n",
              "   customer service calls  churn  \n",
              "0                       1  False  \n",
              "1                       1  False  \n",
              "2                       0  False  \n",
              "3                       2  False  \n",
              "4                       3  False  \n",
              "\n",
              "[5 rows x 21 columns]"
            ],
            "text/html": [
              "\n",
              "  <div id=\"df-b6a6efa0-3a41-466b-ab12-2fb2d91e1c0f\" class=\"colab-df-container\">\n",
              "    <div>\n",
              "<style scoped>\n",
              "    .dataframe tbody tr th:only-of-type {\n",
              "        vertical-align: middle;\n",
              "    }\n",
              "\n",
              "    .dataframe tbody tr th {\n",
              "        vertical-align: top;\n",
              "    }\n",
              "\n",
              "    .dataframe thead th {\n",
              "        text-align: right;\n",
              "    }\n",
              "</style>\n",
              "<table border=\"1\" class=\"dataframe\">\n",
              "  <thead>\n",
              "    <tr style=\"text-align: right;\">\n",
              "      <th></th>\n",
              "      <th>state</th>\n",
              "      <th>account length</th>\n",
              "      <th>area code</th>\n",
              "      <th>phone number</th>\n",
              "      <th>international plan</th>\n",
              "      <th>voice mail plan</th>\n",
              "      <th>number vmail messages</th>\n",
              "      <th>total day minutes</th>\n",
              "      <th>total day calls</th>\n",
              "      <th>total day charge</th>\n",
              "      <th>...</th>\n",
              "      <th>total eve calls</th>\n",
              "      <th>total eve charge</th>\n",
              "      <th>total night minutes</th>\n",
              "      <th>total night calls</th>\n",
              "      <th>total night charge</th>\n",
              "      <th>total intl minutes</th>\n",
              "      <th>total intl calls</th>\n",
              "      <th>total intl charge</th>\n",
              "      <th>customer service calls</th>\n",
              "      <th>churn</th>\n",
              "    </tr>\n",
              "  </thead>\n",
              "  <tbody>\n",
              "    <tr>\n",
              "      <th>0</th>\n",
              "      <td>KS</td>\n",
              "      <td>128</td>\n",
              "      <td>415</td>\n",
              "      <td>382-4657</td>\n",
              "      <td>no</td>\n",
              "      <td>yes</td>\n",
              "      <td>25</td>\n",
              "      <td>265.1</td>\n",
              "      <td>110</td>\n",
              "      <td>45.07</td>\n",
              "      <td>...</td>\n",
              "      <td>99</td>\n",
              "      <td>16.78</td>\n",
              "      <td>244.7</td>\n",
              "      <td>91</td>\n",
              "      <td>11.01</td>\n",
              "      <td>10.0</td>\n",
              "      <td>3</td>\n",
              "      <td>2.70</td>\n",
              "      <td>1</td>\n",
              "      <td>False</td>\n",
              "    </tr>\n",
              "    <tr>\n",
              "      <th>1</th>\n",
              "      <td>OH</td>\n",
              "      <td>107</td>\n",
              "      <td>415</td>\n",
              "      <td>371-7191</td>\n",
              "      <td>no</td>\n",
              "      <td>yes</td>\n",
              "      <td>26</td>\n",
              "      <td>161.6</td>\n",
              "      <td>123</td>\n",
              "      <td>27.47</td>\n",
              "      <td>...</td>\n",
              "      <td>103</td>\n",
              "      <td>16.62</td>\n",
              "      <td>254.4</td>\n",
              "      <td>103</td>\n",
              "      <td>11.45</td>\n",
              "      <td>13.7</td>\n",
              "      <td>3</td>\n",
              "      <td>3.70</td>\n",
              "      <td>1</td>\n",
              "      <td>False</td>\n",
              "    </tr>\n",
              "    <tr>\n",
              "      <th>2</th>\n",
              "      <td>NJ</td>\n",
              "      <td>137</td>\n",
              "      <td>415</td>\n",
              "      <td>358-1921</td>\n",
              "      <td>no</td>\n",
              "      <td>no</td>\n",
              "      <td>0</td>\n",
              "      <td>243.4</td>\n",
              "      <td>114</td>\n",
              "      <td>41.38</td>\n",
              "      <td>...</td>\n",
              "      <td>110</td>\n",
              "      <td>10.30</td>\n",
              "      <td>162.6</td>\n",
              "      <td>104</td>\n",
              "      <td>7.32</td>\n",
              "      <td>12.2</td>\n",
              "      <td>5</td>\n",
              "      <td>3.29</td>\n",
              "      <td>0</td>\n",
              "      <td>False</td>\n",
              "    </tr>\n",
              "    <tr>\n",
              "      <th>3</th>\n",
              "      <td>OH</td>\n",
              "      <td>84</td>\n",
              "      <td>408</td>\n",
              "      <td>375-9999</td>\n",
              "      <td>yes</td>\n",
              "      <td>no</td>\n",
              "      <td>0</td>\n",
              "      <td>299.4</td>\n",
              "      <td>71</td>\n",
              "      <td>50.90</td>\n",
              "      <td>...</td>\n",
              "      <td>88</td>\n",
              "      <td>5.26</td>\n",
              "      <td>196.9</td>\n",
              "      <td>89</td>\n",
              "      <td>8.86</td>\n",
              "      <td>6.6</td>\n",
              "      <td>7</td>\n",
              "      <td>1.78</td>\n",
              "      <td>2</td>\n",
              "      <td>False</td>\n",
              "    </tr>\n",
              "    <tr>\n",
              "      <th>4</th>\n",
              "      <td>OK</td>\n",
              "      <td>75</td>\n",
              "      <td>415</td>\n",
              "      <td>330-6626</td>\n",
              "      <td>yes</td>\n",
              "      <td>no</td>\n",
              "      <td>0</td>\n",
              "      <td>166.7</td>\n",
              "      <td>113</td>\n",
              "      <td>28.34</td>\n",
              "      <td>...</td>\n",
              "      <td>122</td>\n",
              "      <td>12.61</td>\n",
              "      <td>186.9</td>\n",
              "      <td>121</td>\n",
              "      <td>8.41</td>\n",
              "      <td>10.1</td>\n",
              "      <td>3</td>\n",
              "      <td>2.73</td>\n",
              "      <td>3</td>\n",
              "      <td>False</td>\n",
              "    </tr>\n",
              "  </tbody>\n",
              "</table>\n",
              "<p>5 rows × 21 columns</p>\n",
              "</div>\n",
              "    <div class=\"colab-df-buttons\">\n",
              "\n",
              "  <div class=\"colab-df-container\">\n",
              "    <button class=\"colab-df-convert\" onclick=\"convertToInteractive('df-b6a6efa0-3a41-466b-ab12-2fb2d91e1c0f')\"\n",
              "            title=\"Convert this dataframe to an interactive table.\"\n",
              "            style=\"display:none;\">\n",
              "\n",
              "  <svg xmlns=\"http://www.w3.org/2000/svg\" height=\"24px\" viewBox=\"0 -960 960 960\">\n",
              "    <path d=\"M120-120v-720h720v720H120Zm60-500h600v-160H180v160Zm220 220h160v-160H400v160Zm0 220h160v-160H400v160ZM180-400h160v-160H180v160Zm440 0h160v-160H620v160ZM180-180h160v-160H180v160Zm440 0h160v-160H620v160Z\"/>\n",
              "  </svg>\n",
              "    </button>\n",
              "\n",
              "  <style>\n",
              "    .colab-df-container {\n",
              "      display:flex;\n",
              "      gap: 12px;\n",
              "    }\n",
              "\n",
              "    .colab-df-convert {\n",
              "      background-color: #E8F0FE;\n",
              "      border: none;\n",
              "      border-radius: 50%;\n",
              "      cursor: pointer;\n",
              "      display: none;\n",
              "      fill: #1967D2;\n",
              "      height: 32px;\n",
              "      padding: 0 0 0 0;\n",
              "      width: 32px;\n",
              "    }\n",
              "\n",
              "    .colab-df-convert:hover {\n",
              "      background-color: #E2EBFA;\n",
              "      box-shadow: 0px 1px 2px rgba(60, 64, 67, 0.3), 0px 1px 3px 1px rgba(60, 64, 67, 0.15);\n",
              "      fill: #174EA6;\n",
              "    }\n",
              "\n",
              "    .colab-df-buttons div {\n",
              "      margin-bottom: 4px;\n",
              "    }\n",
              "\n",
              "    [theme=dark] .colab-df-convert {\n",
              "      background-color: #3B4455;\n",
              "      fill: #D2E3FC;\n",
              "    }\n",
              "\n",
              "    [theme=dark] .colab-df-convert:hover {\n",
              "      background-color: #434B5C;\n",
              "      box-shadow: 0px 1px 3px 1px rgba(0, 0, 0, 0.15);\n",
              "      filter: drop-shadow(0px 1px 2px rgba(0, 0, 0, 0.3));\n",
              "      fill: #FFFFFF;\n",
              "    }\n",
              "  </style>\n",
              "\n",
              "    <script>\n",
              "      const buttonEl =\n",
              "        document.querySelector('#df-b6a6efa0-3a41-466b-ab12-2fb2d91e1c0f button.colab-df-convert');\n",
              "      buttonEl.style.display =\n",
              "        google.colab.kernel.accessAllowed ? 'block' : 'none';\n",
              "\n",
              "      async function convertToInteractive(key) {\n",
              "        const element = document.querySelector('#df-b6a6efa0-3a41-466b-ab12-2fb2d91e1c0f');\n",
              "        const dataTable =\n",
              "          await google.colab.kernel.invokeFunction('convertToInteractive',\n",
              "                                                    [key], {});\n",
              "        if (!dataTable) return;\n",
              "\n",
              "        const docLinkHtml = 'Like what you see? Visit the ' +\n",
              "          '<a target=\"_blank\" href=https://colab.research.google.com/notebooks/data_table.ipynb>data table notebook</a>'\n",
              "          + ' to learn more about interactive tables.';\n",
              "        element.innerHTML = '';\n",
              "        dataTable['output_type'] = 'display_data';\n",
              "        await google.colab.output.renderOutput(dataTable, element);\n",
              "        const docLink = document.createElement('div');\n",
              "        docLink.innerHTML = docLinkHtml;\n",
              "        element.appendChild(docLink);\n",
              "      }\n",
              "    </script>\n",
              "  </div>\n",
              "\n",
              "\n",
              "<div id=\"df-b31cbde4-9b92-40b7-8c80-5932b036e007\">\n",
              "  <button class=\"colab-df-quickchart\" onclick=\"quickchart('df-b31cbde4-9b92-40b7-8c80-5932b036e007')\"\n",
              "            title=\"Suggest charts\"\n",
              "            style=\"display:none;\">\n",
              "\n",
              "<svg xmlns=\"http://www.w3.org/2000/svg\" height=\"24px\"viewBox=\"0 0 24 24\"\n",
              "     width=\"24px\">\n",
              "    <g>\n",
              "        <path d=\"M19 3H5c-1.1 0-2 .9-2 2v14c0 1.1.9 2 2 2h14c1.1 0 2-.9 2-2V5c0-1.1-.9-2-2-2zM9 17H7v-7h2v7zm4 0h-2V7h2v10zm4 0h-2v-4h2v4z\"/>\n",
              "    </g>\n",
              "</svg>\n",
              "  </button>\n",
              "\n",
              "<style>\n",
              "  .colab-df-quickchart {\n",
              "      --bg-color: #E8F0FE;\n",
              "      --fill-color: #1967D2;\n",
              "      --hover-bg-color: #E2EBFA;\n",
              "      --hover-fill-color: #174EA6;\n",
              "      --disabled-fill-color: #AAA;\n",
              "      --disabled-bg-color: #DDD;\n",
              "  }\n",
              "\n",
              "  [theme=dark] .colab-df-quickchart {\n",
              "      --bg-color: #3B4455;\n",
              "      --fill-color: #D2E3FC;\n",
              "      --hover-bg-color: #434B5C;\n",
              "      --hover-fill-color: #FFFFFF;\n",
              "      --disabled-bg-color: #3B4455;\n",
              "      --disabled-fill-color: #666;\n",
              "  }\n",
              "\n",
              "  .colab-df-quickchart {\n",
              "    background-color: var(--bg-color);\n",
              "    border: none;\n",
              "    border-radius: 50%;\n",
              "    cursor: pointer;\n",
              "    display: none;\n",
              "    fill: var(--fill-color);\n",
              "    height: 32px;\n",
              "    padding: 0;\n",
              "    width: 32px;\n",
              "  }\n",
              "\n",
              "  .colab-df-quickchart:hover {\n",
              "    background-color: var(--hover-bg-color);\n",
              "    box-shadow: 0 1px 2px rgba(60, 64, 67, 0.3), 0 1px 3px 1px rgba(60, 64, 67, 0.15);\n",
              "    fill: var(--button-hover-fill-color);\n",
              "  }\n",
              "\n",
              "  .colab-df-quickchart-complete:disabled,\n",
              "  .colab-df-quickchart-complete:disabled:hover {\n",
              "    background-color: var(--disabled-bg-color);\n",
              "    fill: var(--disabled-fill-color);\n",
              "    box-shadow: none;\n",
              "  }\n",
              "\n",
              "  .colab-df-spinner {\n",
              "    border: 2px solid var(--fill-color);\n",
              "    border-color: transparent;\n",
              "    border-bottom-color: var(--fill-color);\n",
              "    animation:\n",
              "      spin 1s steps(1) infinite;\n",
              "  }\n",
              "\n",
              "  @keyframes spin {\n",
              "    0% {\n",
              "      border-color: transparent;\n",
              "      border-bottom-color: var(--fill-color);\n",
              "      border-left-color: var(--fill-color);\n",
              "    }\n",
              "    20% {\n",
              "      border-color: transparent;\n",
              "      border-left-color: var(--fill-color);\n",
              "      border-top-color: var(--fill-color);\n",
              "    }\n",
              "    30% {\n",
              "      border-color: transparent;\n",
              "      border-left-color: var(--fill-color);\n",
              "      border-top-color: var(--fill-color);\n",
              "      border-right-color: var(--fill-color);\n",
              "    }\n",
              "    40% {\n",
              "      border-color: transparent;\n",
              "      border-right-color: var(--fill-color);\n",
              "      border-top-color: var(--fill-color);\n",
              "    }\n",
              "    60% {\n",
              "      border-color: transparent;\n",
              "      border-right-color: var(--fill-color);\n",
              "    }\n",
              "    80% {\n",
              "      border-color: transparent;\n",
              "      border-right-color: var(--fill-color);\n",
              "      border-bottom-color: var(--fill-color);\n",
              "    }\n",
              "    90% {\n",
              "      border-color: transparent;\n",
              "      border-bottom-color: var(--fill-color);\n",
              "    }\n",
              "  }\n",
              "</style>\n",
              "\n",
              "  <script>\n",
              "    async function quickchart(key) {\n",
              "      const quickchartButtonEl =\n",
              "        document.querySelector('#' + key + ' button');\n",
              "      quickchartButtonEl.disabled = true;  // To prevent multiple clicks.\n",
              "      quickchartButtonEl.classList.add('colab-df-spinner');\n",
              "      try {\n",
              "        const charts = await google.colab.kernel.invokeFunction(\n",
              "            'suggestCharts', [key], {});\n",
              "      } catch (error) {\n",
              "        console.error('Error during call to suggestCharts:', error);\n",
              "      }\n",
              "      quickchartButtonEl.classList.remove('colab-df-spinner');\n",
              "      quickchartButtonEl.classList.add('colab-df-quickchart-complete');\n",
              "    }\n",
              "    (() => {\n",
              "      let quickchartButtonEl =\n",
              "        document.querySelector('#df-b31cbde4-9b92-40b7-8c80-5932b036e007 button');\n",
              "      quickchartButtonEl.style.display =\n",
              "        google.colab.kernel.accessAllowed ? 'block' : 'none';\n",
              "    })();\n",
              "  </script>\n",
              "</div>\n",
              "\n",
              "    </div>\n",
              "  </div>\n"
            ],
            "application/vnd.google.colaboratory.intrinsic+json": {
              "type": "dataframe",
              "variable_name": "df"
            }
          },
          "metadata": {},
          "execution_count": 4
        }
      ]
    },
    {
      "cell_type": "code",
      "source": [
        "#Verifica cuántas filas y columnas tiene el dataset.\n",
        "df.shape"
      ],
      "metadata": {
        "colab": {
          "base_uri": "https://localhost:8080/"
        },
        "id": "1pUlcYLZsROj",
        "outputId": "7e94dd12-208f-4537-aaa3-05aefa2cf8a9"
      },
      "execution_count": 5,
      "outputs": [
        {
          "output_type": "execute_result",
          "data": {
            "text/plain": [
              "(3333, 21)"
            ]
          },
          "metadata": {},
          "execution_count": 5
        }
      ]
    },
    {
      "cell_type": "code",
      "source": [
        "#Muestra información general del dataset, incluyendo los tipos de datos\n",
        "df.info()"
      ],
      "metadata": {
        "colab": {
          "base_uri": "https://localhost:8080/"
        },
        "id": "G2hNaFptsXk7",
        "outputId": "12bc36fe-1da8-4412-ca66-3b39f6fc7fb2"
      },
      "execution_count": 6,
      "outputs": [
        {
          "output_type": "stream",
          "name": "stdout",
          "text": [
            "<class 'pandas.core.frame.DataFrame'>\n",
            "RangeIndex: 3333 entries, 0 to 3332\n",
            "Data columns (total 21 columns):\n",
            " #   Column                  Non-Null Count  Dtype  \n",
            "---  ------                  --------------  -----  \n",
            " 0   state                   3333 non-null   object \n",
            " 1   account length          3333 non-null   int64  \n",
            " 2   area code               3333 non-null   int64  \n",
            " 3   phone number            3333 non-null   object \n",
            " 4   international plan      3333 non-null   object \n",
            " 5   voice mail plan         3333 non-null   object \n",
            " 6   number vmail messages   3333 non-null   int64  \n",
            " 7   total day minutes       3333 non-null   float64\n",
            " 8   total day calls         3333 non-null   int64  \n",
            " 9   total day charge        3333 non-null   float64\n",
            " 10  total eve minutes       3333 non-null   float64\n",
            " 11  total eve calls         3333 non-null   int64  \n",
            " 12  total eve charge        3333 non-null   float64\n",
            " 13  total night minutes     3333 non-null   float64\n",
            " 14  total night calls       3333 non-null   int64  \n",
            " 15  total night charge      3333 non-null   float64\n",
            " 16  total intl minutes      3333 non-null   float64\n",
            " 17  total intl calls        3333 non-null   int64  \n",
            " 18  total intl charge       3333 non-null   float64\n",
            " 19  customer service calls  3333 non-null   int64  \n",
            " 20  churn                   3333 non-null   bool   \n",
            "dtypes: bool(1), float64(8), int64(8), object(4)\n",
            "memory usage: 524.2+ KB\n"
          ]
        }
      ]
    },
    {
      "cell_type": "code",
      "source": [
        "#Identifica si hay valores nulos en alguna columna\n",
        "df.isnull().sum()"
      ],
      "metadata": {
        "colab": {
          "base_uri": "https://localhost:8080/",
          "height": 743
        },
        "id": "9ZYP0iFDs5Ea",
        "outputId": "b19a01a5-2fc1-4490-cbc0-fd51e4644030"
      },
      "execution_count": 9,
      "outputs": [
        {
          "output_type": "execute_result",
          "data": {
            "text/plain": [
              "state                     0\n",
              "account length            0\n",
              "area code                 0\n",
              "phone number              0\n",
              "international plan        0\n",
              "voice mail plan           0\n",
              "number vmail messages     0\n",
              "total day minutes         0\n",
              "total day calls           0\n",
              "total day charge          0\n",
              "total eve minutes         0\n",
              "total eve calls           0\n",
              "total eve charge          0\n",
              "total night minutes       0\n",
              "total night calls         0\n",
              "total night charge        0\n",
              "total intl minutes        0\n",
              "total intl calls          0\n",
              "total intl charge         0\n",
              "customer service calls    0\n",
              "churn                     0\n",
              "dtype: int64"
            ],
            "text/html": [
              "<div>\n",
              "<style scoped>\n",
              "    .dataframe tbody tr th:only-of-type {\n",
              "        vertical-align: middle;\n",
              "    }\n",
              "\n",
              "    .dataframe tbody tr th {\n",
              "        vertical-align: top;\n",
              "    }\n",
              "\n",
              "    .dataframe thead th {\n",
              "        text-align: right;\n",
              "    }\n",
              "</style>\n",
              "<table border=\"1\" class=\"dataframe\">\n",
              "  <thead>\n",
              "    <tr style=\"text-align: right;\">\n",
              "      <th></th>\n",
              "      <th>0</th>\n",
              "    </tr>\n",
              "  </thead>\n",
              "  <tbody>\n",
              "    <tr>\n",
              "      <th>state</th>\n",
              "      <td>0</td>\n",
              "    </tr>\n",
              "    <tr>\n",
              "      <th>account length</th>\n",
              "      <td>0</td>\n",
              "    </tr>\n",
              "    <tr>\n",
              "      <th>area code</th>\n",
              "      <td>0</td>\n",
              "    </tr>\n",
              "    <tr>\n",
              "      <th>phone number</th>\n",
              "      <td>0</td>\n",
              "    </tr>\n",
              "    <tr>\n",
              "      <th>international plan</th>\n",
              "      <td>0</td>\n",
              "    </tr>\n",
              "    <tr>\n",
              "      <th>voice mail plan</th>\n",
              "      <td>0</td>\n",
              "    </tr>\n",
              "    <tr>\n",
              "      <th>number vmail messages</th>\n",
              "      <td>0</td>\n",
              "    </tr>\n",
              "    <tr>\n",
              "      <th>total day minutes</th>\n",
              "      <td>0</td>\n",
              "    </tr>\n",
              "    <tr>\n",
              "      <th>total day calls</th>\n",
              "      <td>0</td>\n",
              "    </tr>\n",
              "    <tr>\n",
              "      <th>total day charge</th>\n",
              "      <td>0</td>\n",
              "    </tr>\n",
              "    <tr>\n",
              "      <th>total eve minutes</th>\n",
              "      <td>0</td>\n",
              "    </tr>\n",
              "    <tr>\n",
              "      <th>total eve calls</th>\n",
              "      <td>0</td>\n",
              "    </tr>\n",
              "    <tr>\n",
              "      <th>total eve charge</th>\n",
              "      <td>0</td>\n",
              "    </tr>\n",
              "    <tr>\n",
              "      <th>total night minutes</th>\n",
              "      <td>0</td>\n",
              "    </tr>\n",
              "    <tr>\n",
              "      <th>total night calls</th>\n",
              "      <td>0</td>\n",
              "    </tr>\n",
              "    <tr>\n",
              "      <th>total night charge</th>\n",
              "      <td>0</td>\n",
              "    </tr>\n",
              "    <tr>\n",
              "      <th>total intl minutes</th>\n",
              "      <td>0</td>\n",
              "    </tr>\n",
              "    <tr>\n",
              "      <th>total intl calls</th>\n",
              "      <td>0</td>\n",
              "    </tr>\n",
              "    <tr>\n",
              "      <th>total intl charge</th>\n",
              "      <td>0</td>\n",
              "    </tr>\n",
              "    <tr>\n",
              "      <th>customer service calls</th>\n",
              "      <td>0</td>\n",
              "    </tr>\n",
              "    <tr>\n",
              "      <th>churn</th>\n",
              "      <td>0</td>\n",
              "    </tr>\n",
              "  </tbody>\n",
              "</table>\n",
              "</div><br><label><b>dtype:</b> int64</label>"
            ]
          },
          "metadata": {},
          "execution_count": 9
        }
      ]
    },
    {
      "cell_type": "markdown",
      "source": [
        "**Análisis de Churn y Factores Relacionados**\n",
        "\n",
        "Calcula el porcentaje de clientes que han desertado (churn = 1).\n",
        "\n",
        "Identifica si los clientes con plan internacional (international plan) tienen mayor tasa de deserción.\n",
        "\n",
        "Identifica si los clientes con buzón de voz (voice mail plan) tienen menor tasa de deserción."
      ],
      "metadata": {
        "id": "PIGXq-ijFgb4"
      }
    },
    {
      "cell_type": "code",
      "source": [
        "# Solución propuesta\n",
        "#Calcula el porcentaje de clientes que han desertado (churn = 1)\n",
        "#Creo un dataframe solo con los clientes desertados (churn = 1)\n",
        "clientes_churn = df[df['churn'] == 1]\n",
        "\n",
        "#Calculo el porcentaje de desertados\n",
        "porcentaje_desertados = (len(clientes_churn) / len(df)) * 100\n",
        "print(f\"El porcentaje de clientes que han desertado es: {round(porcentaje_desertados,2)} %\")"
      ],
      "metadata": {
        "id": "3_TFqdwBwUD-",
        "colab": {
          "base_uri": "https://localhost:8080/"
        },
        "outputId": "fb202fee-d2c7-4e8e-99d7-45cc49a94bbc"
      },
      "execution_count": 43,
      "outputs": [
        {
          "output_type": "stream",
          "name": "stdout",
          "text": [
            "El porcentaje de clientes que han desertado es: 14.49 %\n"
          ]
        }
      ]
    },
    {
      "cell_type": "code",
      "source": [
        "#Identifica si los clientes con plan internacional (international plan) tienen mayor tasa de deserción\n",
        "\n",
        "#Calculo los porcentajes de desercion de los clientes de plan internacional ['international plan'] == 'yes'\n",
        "p_desertados_plan_int = (len(clientes_churn[clientes_churn['international plan'] == 'yes']) / len(df[df['international plan'] == 'yes'])) * 100\n",
        "print(f\"El porcentaje de clientes con plan internacional que han desertado es: {round(p_desertados_plan_int,2)} %\")\n",
        "\n",
        "#Calculo los porcentajes de desercion de los clientes sin plan internacional ['international plan'] == 'no'\n",
        "p_desertados_sin_plan_int = (len(clientes_churn[clientes_churn['international plan'] == 'no']) / len(df[df['international plan'] == 'no'])) * 100\n",
        "print(f\"El porcentaje de clientes sin plan internacional que han desertado es: {round(p_desertados_sin_plan_int,2)} %\")\n",
        "\n",
        "#Hago la comparación de porcentajes para saber cual tiene mas tasa de deserción\n",
        "if p_desertados_plan_int > p_desertados_sin_plan_int:\n",
        "  print(\"Los clientes con plan internacional tienen mayor tasa de deserción\")\n",
        "else:\n",
        "  print(\"Los clientes sin plan internacional tienen mayor tasa de deserción\")"
      ],
      "metadata": {
        "colab": {
          "base_uri": "https://localhost:8080/"
        },
        "id": "M9EaZdodtnM3",
        "outputId": "c8f88bea-888f-464d-e43b-8986d60490df"
      },
      "execution_count": 64,
      "outputs": [
        {
          "output_type": "stream",
          "name": "stdout",
          "text": [
            "El porcentaje de clientes con plan internacional que han desertado es: 42.41 %\n",
            "El porcentaje de clientes sin plan internacional que han desertado es: 11.5 %\n",
            "Los clientes con plan internacional tienen mayor tasa de deserción\n"
          ]
        }
      ]
    },
    {
      "cell_type": "code",
      "source": [
        "#Identifica si los clientes con buzón de voz (voice mail plan) tienen menor tasa de deserción\n",
        "\n",
        "#Calculo los porcentajes de deserción de los clientes con buzon de voz [voice mail plan = 'yes']\n",
        "p_desertados_con_buzon_voz = (len(clientes_churn[clientes_churn['voice mail plan'] == 'yes']) / len(df[df['voice mail plan'] == 'yes'])) * 100\n",
        "print(f\"El porcentaje de clientes con buzón de voz que han desertado es: {round(p_desertados_con_buzon_voz,2)} %\")\n",
        "\n",
        "#Calculo los porcentajes de deserción de los clientes con buzon de voz [voice mail plan = 'no']\n",
        "p_desertados_sin_buzon_voz = (len(clientes_churn[clientes_churn['voice mail plan'] == 'no']) / len(df[df['voice mail plan'] == 'no'])) * 100\n",
        "print(f\"El porcentaje de clientes sin buzón de voz que han desertado es: {round(p_desertados_sin_buzon_voz,2)} %\")\n",
        "\n",
        "#Hago la comparación de los porcentajes para saber cual tiene mas tasa de deserción\n",
        "if p_desertados_con_buzon_voz > p_desertados_sin_buzon_voz:\n",
        "  print(\"Los clientes con buzón de voz tienen mayor tasa de deserción\")\n",
        "else:\n",
        "  print(\"Los clientes sin buzón de voz tienen mayor tasa de deserción\")\n",
        "\n"
      ],
      "metadata": {
        "colab": {
          "base_uri": "https://localhost:8080/"
        },
        "id": "5nC4xxOD3JKy",
        "outputId": "8b965f10-5885-4a7a-e635-bdbaafa9d161"
      },
      "execution_count": 65,
      "outputs": [
        {
          "output_type": "stream",
          "name": "stdout",
          "text": [
            "El porcentaje de clientes con buzón de voz que han desertado es: 8.68 %\n",
            "El porcentaje de clientes sin buzón de voz que han desertado es: 16.72 %\n",
            "Los clientes sin buzón de voz tienen mayor tasa de deserción\n"
          ]
        }
      ]
    },
    {
      "cell_type": "code",
      "source": [],
      "metadata": {
        "id": "LIw_OMvq3Wo7"
      },
      "execution_count": null,
      "outputs": []
    },
    {
      "cell_type": "markdown",
      "source": [
        "**Análisis de la Duración del Servicio y Deserción**\n",
        "\n",
        "¿Cuál es la duración promedio de la cuenta (account length) entre clientes que desertaron y los que permanecen?\n",
        "\n"
      ],
      "metadata": {
        "id": "yL8Y_juFFup7"
      }
    },
    {
      "cell_type": "code",
      "source": [
        "# Solución propuesta\n",
        "#Creo el dataframe de los no desertados ['churn'] == 0\n",
        "clientes_no_churn = df[df['churn'] == 0]\n",
        "\n",
        "#Calculo la duracion promedio de la cuenta (account length) para los clientes desertados\n",
        "dur_prom_desertados = clientes_churn['account length'].mean()\n",
        "print(f\"La duración promedio de la cuenta (account length) para los clientes desertados es: {round(dur_prom_desertados,2)}\")\n",
        "\n",
        "#Calculo la duracion promedio de la cuenta (account length) para los clientes no desertados\n",
        "dur_prom_no_desertados = clientes_no_churn['account length'].mean()\n",
        "print(f\"La duración promedio de la cuenta (account length) para los clientes no desertados es: {round(dur_prom_no_desertados,2)}\")"
      ],
      "metadata": {
        "id": "7ViU0n6lGFao",
        "colab": {
          "base_uri": "https://localhost:8080/"
        },
        "outputId": "a84c8003-0fcf-482f-b4a7-b30ead729c77"
      },
      "execution_count": 61,
      "outputs": [
        {
          "output_type": "stream",
          "name": "stdout",
          "text": [
            "La duración promedio de la cuenta (account length) para los clientes desertados es: 102.66\n",
            "La duración promedio de la cuenta (account length) para los clientes no desertados es: 100.79\n"
          ]
        }
      ]
    },
    {
      "cell_type": "markdown",
      "source": [
        "**Relación entre Deserción y Uso del Servicio**\n",
        "\n",
        "Compara la cantidad de minutos usados en llamadas diurnas (total day minutes) entre clientes con y sin churn.\n",
        "\n",
        "Compara la cantidad de minutos usados en llamadas nocturnas (total night minutes).\n",
        "\n",
        "Compara el número total de llamadas (total day calls) entre clientes con y sin churn."
      ],
      "metadata": {
        "id": "vyaa82K0GF6B"
      }
    },
    {
      "cell_type": "code",
      "source": [
        "# Solución propuesta\n",
        "#Compara la cantidad de minutos usados en llamadas diurnas (total day minutes)\n",
        "\n",
        "#Realizo la suma total de minutos (total day minutes) para los clientes no desertados\n",
        "total_min_no_desertados = clientes_no_churn['total day minutes'].sum()\n",
        "\n",
        "#Realizo la suma total de minutos (total day minutes) para los clientes desertados\n",
        "total_min_desertados = clientes_churn['total day minutes'].sum()\n",
        "\n",
        "print(f\"Suma total de minutos en llamadas diurnas para clientes que desertaron: {round(total_min_desertados,2)}\")\n",
        "print(f\"Suma total de minutos en llamadas diurnas para clientes que no desertaron: {round(total_min_no_desertados,2)}\")\n",
        "\n",
        "if total_min_desertados > total_min_no_desertados:\n",
        "  print(\"El total day minutes para clientes que desertaron es mayor\")\n",
        "else:\n",
        "  print(\"El total day minutes para clientes que no desertaron es mayor\")"
      ],
      "metadata": {
        "id": "d4aPKcv2GrpL",
        "colab": {
          "base_uri": "https://localhost:8080/"
        },
        "outputId": "1b036ea5-980c-4bf9-fd51-04c28799a990"
      },
      "execution_count": 67,
      "outputs": [
        {
          "output_type": "stream",
          "name": "stdout",
          "text": [
            "Suma total de minutos en llamadas diurnas para clientes que desertaron: 99939.5\n",
            "Suma total de minutos en llamadas diurnas para clientes que no desertaron: 499250.9\n",
            "El total day minutes para clientes que no desertaron es mayor\n"
          ]
        }
      ]
    },
    {
      "cell_type": "code",
      "source": [
        "#Compara la cantidad de minutos usados en llamadas nocturnas (total night minutes)\n",
        "\n",
        "#Realizo la suma total de minutos (total night minutes) para los clientes no desertados\n",
        "total_night_minutes_no_desertados = clientes_no_churn['total night minutes'].sum()\n",
        "\n",
        "#Realizo la suma total de minutos (total night minutes) para los clientes desertados\n",
        "total_night_minutes_desertados = clientes_churn['total night minutes'].sum()\n",
        "\n",
        "print(f\"Suma del total night minutes para clientes que desertaron: {round(total_night_minutes_desertados,2)}\")\n",
        "print(f\"Suma del total night minutes para clientes que no desertaron: {round(total_night_minutes_no_desertados,2)}\")\n",
        "\n",
        "if total_night_minutes_desertados > total_night_minutes_no_desertados:\n",
        "  print(\"El total night minutes para clientes que desertaron es mayor\")\n",
        "else:\n",
        "  print(\"El total night minutes para clientes que no desertaron es mayor\")"
      ],
      "metadata": {
        "colab": {
          "base_uri": "https://localhost:8080/"
        },
        "id": "_78nBNFq8j-p",
        "outputId": "e4098520-73d2-45a1-dcc7-eb30da25d57a"
      },
      "execution_count": 68,
      "outputs": [
        {
          "output_type": "stream",
          "name": "stdout",
          "text": [
            "Suma del total night minutes para clientes que desertaron: 99126.9\n",
            "Suma del total night minutes para clientes que no desertaron: 570379.6\n",
            "El total night minutes para clientes que no desertaron es mayor\n"
          ]
        }
      ]
    },
    {
      "cell_type": "code",
      "source": [
        "#Compara el número total de llamadas (total day calls) entre clientes con y sin churn.\n",
        "\n",
        "#Realizo la suma del total day calls para clientes no desertados\n",
        "total_day_calls_no_desertados = clientes_no_churn['total day calls'].sum()\n",
        "\n",
        "#Realizo la suma del total day calls para clientes desertados\n",
        "total_day_calls_desertados = clientes_churn['total day calls'].sum()\n",
        "\n",
        "print(f\"Suma del total day calls para clientes que desertaron: {round(total_day_calls_desertados,2)}\")\n",
        "print(f\"Suma del total day calls para clientes que no desertaron: {round(total_day_calls_no_desertados,2)}\")\n",
        "\n",
        "if total_day_calls_desertados > total_day_calls_no_desertados:\n",
        "  print(\"El total day calls para clientes que desertaron es mayor\")\n",
        "else:\n",
        "  print(\"El total day calls para clientes que no desertaron es mayor\")"
      ],
      "metadata": {
        "colab": {
          "base_uri": "https://localhost:8080/"
        },
        "id": "PkSRAUaS9Q3v",
        "outputId": "eba962c6-ea6f-4bc3-83ca-653c31f19a66"
      },
      "execution_count": 55,
      "outputs": [
        {
          "output_type": "stream",
          "name": "stdout",
          "text": [
            "Suma del total day calls para clientes que desertaron: 48945\n",
            "Suma del total day calls para clientes que no desertaron: 285807\n",
            "El total day calls para clientes que no desertaron es mayor\n"
          ]
        }
      ]
    },
    {
      "cell_type": "markdown",
      "source": [
        "**Impacto de las Llamadas al Servicio al Cliente en la Deserción**\n",
        "\n",
        "Calcula el número promedio de llamadas al servicio al cliente (customer service calls) entre clientes que desertaron y los que no.\n",
        "\n",
        "Divide los clientes en dos grupos:\n",
        "\n",
        "- Grupo 1: Clientes que llamaron más de 3 veces al servicio al cliente.\n",
        "- Grupo 2: Clientes que llamaron 3 veces o menos.\n",
        "Compara la tasa de churn entre ambos grupos."
      ],
      "metadata": {
        "id": "aKl9LnZgGsDT"
      }
    },
    {
      "cell_type": "code",
      "source": [
        "# Solución propuesta\n",
        "#Calcula el número promedio de llamadas al servicio al cliente (customer service calls) entre clientes que desertaron y los que n\n",
        "\n",
        "prom_calls_desertados = clientes_churn['customer service calls'].mean()\n",
        "print(f\"El número promedio de customer service calls entre clientes que desertaron es: {round(prom_calls_desertados,2)}\")\n",
        "\n",
        "prom_calls_no_desertados = clientes_no_churn['customer service calls'].mean()\n",
        "print(f\"El número promedio de customer service calls entre clientes que no desertaron es: {round(prom_calls_no_desertados,2)}\")\n"
      ],
      "metadata": {
        "id": "ac9qDXgrGz-M",
        "colab": {
          "base_uri": "https://localhost:8080/"
        },
        "outputId": "9dc93e26-17f6-4ffc-e394-582f356121b7"
      },
      "execution_count": 69,
      "outputs": [
        {
          "output_type": "stream",
          "name": "stdout",
          "text": [
            "El número promedio de customer service calls entre clientes que desertaron es: 2.23\n",
            "El número promedio de customer service calls entre clientes que no desertaron es: 1.45\n"
          ]
        }
      ]
    },
    {
      "cell_type": "code",
      "source": [
        "\"\"\"Divide los clientes en dos grupos:\n",
        "\n",
        "Grupo 1: Clientes que llamaron más de 3 veces al servicio al cliente.\n",
        "Grupo 2: Clientes que llamaron 3 veces o menos. Compara la tasa de churn entre ambos grupos\"\"\"\n",
        "\n",
        "# Parte 2: Dividir a los clientes en dos grupos según el número de llamadas\n",
        "grupo_1 = df[df['customer service calls'] > 3]\n",
        "grupo_2 = df[df['customer service calls'] <= 3]\n",
        "\n",
        "# Calcular la tasa de churn en ambos grupos\n",
        "tasa_churn_grupo_1 = len(grupo_1[grupo_1['churn'] == 1]) / len(grupo_1) * 100\n",
        "tasa_churn_grupo_2 = len(grupo_2[grupo_2['churn'] == 1]) / len(grupo_2) * 100\n",
        "\n",
        "\n",
        "print(f\"Tasa de churn en Grupo 1 (más de 3 llamadas): {round(tasa_churn_grupo_1,2)}%\")\n",
        "print(f\"Tasa de churn en Grupo 2 (3 o menos llamadas): {round(tasa_churn_grupo_2,2)}%\")\n",
        "\n",
        "if tasa_churn_grupo_1 > tasa_churn_grupo_2:\n",
        "  print(\"La tasa de churn es mayor en el grupo 1\")\n",
        "else:\n",
        "  print(\"La tasa de churn es mayor en el grupo 2\")"
      ],
      "metadata": {
        "colab": {
          "base_uri": "https://localhost:8080/"
        },
        "id": "of3HQ-j_9-0-",
        "outputId": "ed94a8f5-e608-4e5b-bc0d-1fef823533f4"
      },
      "execution_count": 37,
      "outputs": [
        {
          "output_type": "stream",
          "name": "stdout",
          "text": [
            "Tasa de churn en Grupo 1 (más de 3 llamadas): 51.69%\n",
            "Tasa de churn en Grupo 2 (3 o menos llamadas): 11.25%\n",
            "La tasa de churn es mayor en el grupo 1\n"
          ]
        }
      ]
    },
    {
      "cell_type": "markdown",
      "source": [
        "**Análisis del Costo de las Llamadas y Churn**\n",
        "\n",
        "Compara el costo total de llamadas diurnas (total day charge) entre clientes con y sin churn.\n",
        "\n",
        "Compara el costo total de llamadas nocturnas (total night charge).\n",
        "\n"
      ],
      "metadata": {
        "id": "U7oTziiyG0Wb"
      }
    },
    {
      "cell_type": "code",
      "source": [
        "# Solución propuesta\n",
        "# Compara el costo total de llamadas diurnas (total day charge) entre clientes con y sin churn.\n",
        "\n",
        "#Calculo el costo total day charge para ambos tipos de clientes\n",
        "costo_total_day_charge_desertados = clientes_churn['total day charge'].sum()\n",
        "costo_total_day_charge_no_desertados = clientes_no_churn['total day charge'].sum()\n",
        "\n",
        "print(f\"Costo total day charge para clientes que desertaron: {round(costo_total_day_charge_desertados,2)}\")\n",
        "print(f\"Costo total day charge para clientes que no desertaron: {round(costo_total_day_charge_no_desertados,2)}\")\n",
        "\n",
        "if costo_total_day_charge_desertados > costo_total_day_charge_no_desertados:\n",
        "  print(\"El costo total day charge para clientes que desertaron es mayor\")\n",
        "else:\n",
        "  print(\"El costo total day charge para clientes que no desertaron es mayor\")\n",
        "\n"
      ],
      "metadata": {
        "id": "YWGmcLdoIYwx",
        "colab": {
          "base_uri": "https://localhost:8080/"
        },
        "outputId": "74bad28e-e2be-4860-8e95-d95d36f8bbf9"
      },
      "execution_count": 57,
      "outputs": [
        {
          "output_type": "stream",
          "name": "stdout",
          "text": [
            "Costo total day charge para clientes que desertaron: 16989.97\n",
            "Costo total day charge para clientes que no desertaron: 84874.2\n",
            "El costo total day charge para clientes que no desertaron es mayor\n"
          ]
        }
      ]
    },
    {
      "cell_type": "code",
      "source": [
        "#Compara el costo total de llamadas nocturnas (total night charge).\n",
        "\n",
        "#Calculo el costo total day charge para ambos tipos de clientes\n",
        "costo_total_night_charge_desertados = clientes_churn['total night charge'].sum()\n",
        "costo_total_night_charge_no_desertados = clientes_no_churn['total night charge'].sum()\n",
        "\n",
        "print(f\"Costo total night charge para clientes que desertaron: {round(costo_total_night_charge_desertados,2)}\")\n",
        "print(f\"Costo total night charge para clientes que no desertaron: {round(costo_total_night_charge_no_desertados,2)}\")\n",
        "\n",
        "if costo_total_night_charge_desertados > costo_total_night_charge_no_desertados:\n",
        "  print(\"El costo total night charge para clientes que desertaron es mayor\")\n",
        "else:\n",
        "  print(\"El costo total night charge para clientes que no desertaron es mayor\")"
      ],
      "metadata": {
        "colab": {
          "base_uri": "https://localhost:8080/"
        },
        "id": "ikV_Q1qqAiid",
        "outputId": "b3646c0d-ec2a-4ad1-ce40-c0b7694de7b6"
      },
      "execution_count": 58,
      "outputs": [
        {
          "output_type": "stream",
          "name": "stdout",
          "text": [
            "Costo total night charge para clientes que desertaron: 4460.76\n",
            "Costo total night charge para clientes que no desertaron: 25667.31\n",
            "El costo total night charge para clientes que no desertaron es mayor\n"
          ]
        }
      ]
    }
  ]
}